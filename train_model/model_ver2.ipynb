{
 "cells": [
  {
   "cell_type": "code",
   "execution_count": 1,
   "metadata": {},
   "outputs": [],
   "source": [
    "import pandas as pd\n",
    "import matplotlib.pyplot as plt\n",
    "from tqdm import tqdm\n",
    "from sklearn.cluster import KMeans\n",
    "\n",
    "import lightgbm as lgb\n",
    "import numpy as np\n",
    "from sklearn.metrics import mean_absolute_error\n",
    "from sklearn.model_selection import KFold\n",
    "from sklearn.model_selection import StratifiedKFold\n",
    "from joblib import Parallel, delayed\n",
    "from sklearn.preprocessing import OrdinalEncoder"
   ]
  },
  {
   "cell_type": "code",
   "execution_count": 2,
   "metadata": {},
   "outputs": [],
   "source": [
    "df = pd.read_pickle('../preprocessing/preprocess_df.pkl')"
   ]
  },
  {
   "cell_type": "code",
   "execution_count": 3,
   "metadata": {},
   "outputs": [],
   "source": [
    "non_numeric_columns = df.select_dtypes(exclude=['int', 'float', 'bool']).columns.tolist()\n",
    "oe = OrdinalEncoder()\n",
    "encoded_df = pd.DataFrame(oe.fit_transform(df[non_numeric_columns].values))\n",
    "encoded_df.columns = non_numeric_columns\n",
    "\n",
    "df.drop(non_numeric_columns, axis=1, inplace=True)\n",
    "\n",
    "df = pd.concat([df.reset_index(drop=True), encoded_df.reset_index(drop=True)], axis=1)"
   ]
  },
  {
   "cell_type": "code",
   "execution_count": 6,
   "metadata": {},
   "outputs": [],
   "source": [
    "trainval_df = df[~df['price'].isna()]\n",
    "test_df = df[df['price'].isna()]\n",
    "\n",
    "del df"
   ]
  },
  {
   "cell_type": "code",
   "execution_count": 7,
   "metadata": {},
   "outputs": [],
   "source": [
    "ID = 'id'\n",
    "TARGET = 'price'\n",
    "drop_list = [ID, TARGET]\n",
    "trainval_x = trainval_df.drop(drop_list, axis=1)\n",
    "trainval_y = trainval_df[TARGET]\n",
    "test_x = test_df.drop(drop_list, axis=1)\n",
    "test_y = test_df[TARGET]"
   ]
  },
  {
   "cell_type": "code",
   "execution_count": 8,
   "metadata": {},
   "outputs": [],
   "source": [
    "km = KMeans(n_clusters=4,init='k-means++',n_init=10,max_iter=300,random_state=0)\n",
    "train_y_class = km.fit_predict(trainval_y.values.reshape(-1,1))"
   ]
  },
  {
   "cell_type": "code",
   "execution_count": 9,
   "metadata": {},
   "outputs": [],
   "source": [
    "SEED = 42\n",
    "\n",
    "params = {\n",
    "    'objective': 'mape',\n",
    "    'metric': 'mape',\n",
    "    'num_leaves': 40,\n",
    "    'max_depth': 7,\n",
    "    \"feature_fraction\": 0.8,\n",
    "    'subsample_freq': 1,\n",
    "    \"bagging_fraction\": 0.95,\n",
    "    'min_data_in_leaf': 2,\n",
    "    'learning_rate': 0.05,\n",
    "    \"lambda_l1\": 0.1,\n",
    "    \"lambda_l2\": 10,\n",
    "    \"verbosity\": -1,\n",
    "    \"random_state\": 42,\n",
    "    \"num_boost_round\": 100000,\n",
    "    \"early_stopping_rounds\": 300,\n",
    "    \"boosting\": \"gbdt\"\n",
    "    \n",
    "}\n",
    "\n",
    "def one_fold(fold, train_idx, val_idx):\n",
    "    print('fold', fold)\n",
    "    X_train, X_val = trainval_x.iloc[train_idx,:], trainval_x.iloc[val_idx,:]\n",
    "    y_train, y_val = trainval_y.iloc[train_idx], trainval_y.iloc[val_idx]\n",
    "\n",
    "    train_data = lgb.Dataset(X_train, label=y_train)\n",
    "    val_data = lgb.Dataset(X_val, label=y_val)\n",
    "\n",
    "    model = lgb.train(\n",
    "        params,\n",
    "        train_data, \n",
    "        valid_names = ['train', 'valid'],\n",
    "        valid_sets =[train_data, val_data],\n",
    "        categorical_feature = non_numeric_columns\n",
    "    )\n",
    "    _oof = model.predict(X_val, num_iteration=model.best_iteration)\n",
    "    score = np.mean(np.abs((y_val - _oof) / y_val)) * 100\n",
    "    pred = model.predict(test_x.values)\n",
    "\n",
    "    return [val_idx, model, _oof, score, pred]"
   ]
  },
  {
   "cell_type": "code",
   "execution_count": 10,
   "metadata": {},
   "outputs": [
    {
     "name": "stdout",
     "output_type": "stream",
     "text": [
      "fold 1\n"
     ]
    },
    {
     "name": "stderr",
     "output_type": "stream",
     "text": [
      "/usr/local/lib/python3.8/dist-packages/lightgbm/engine.py:172: UserWarning: Found `num_boost_round` in params. Will use it instead of argument\n",
      "  _log_warning(f\"Found `{alias}` in params. Will use it instead of argument\")\n"
     ]
    },
    {
     "name": "stdout",
     "output_type": "stream",
     "text": [
      "fold 0\n"
     ]
    },
    {
     "name": "stderr",
     "output_type": "stream",
     "text": [
      "/usr/local/lib/python3.8/dist-packages/lightgbm/engine.py:172: UserWarning: Found `num_boost_round` in params. Will use it instead of argument\n",
      "  _log_warning(f\"Found `{alias}` in params. Will use it instead of argument\")\n"
     ]
    },
    {
     "name": "stdout",
     "output_type": "stream",
     "text": [
      "fold 3\n",
      "fold 4\n"
     ]
    },
    {
     "name": "stderr",
     "output_type": "stream",
     "text": [
      "/usr/local/lib/python3.8/dist-packages/lightgbm/engine.py:172: UserWarning: Found `num_boost_round` in params. Will use it instead of argument\n",
      "  _log_warning(f\"Found `{alias}` in params. Will use it instead of argument\")\n",
      "/usr/local/lib/python3.8/dist-packages/lightgbm/engine.py:172: UserWarning: Found `num_boost_round` in params. Will use it instead of argument\n",
      "  _log_warning(f\"Found `{alias}` in params. Will use it instead of argument\")\n"
     ]
    },
    {
     "name": "stdout",
     "output_type": "stream",
     "text": [
      "fold 2\n"
     ]
    },
    {
     "name": "stderr",
     "output_type": "stream",
     "text": [
      "/usr/local/lib/python3.8/dist-packages/lightgbm/engine.py:172: UserWarning: Found `num_boost_round` in params. Will use it instead of argument\n",
      "  _log_warning(f\"Found `{alias}` in params. Will use it instead of argument\")\n"
     ]
    }
   ],
   "source": [
    "oof_skf = np.zeros_like(trainval_y)\n",
    "pred_skf = np.zeros_like(test_y)\n",
    "models_skf, scores_skf, val_idxs_skf = [],[],[]\n",
    "\n",
    "skf = StratifiedKFold(n_splits=5, shuffle=True)\n",
    "result = Parallel(n_jobs=-1, verbose=0)(delayed(one_fold)(fold, trn_idx, val_idx)\n",
    "    for fold, (trn_idx, val_idx) in enumerate(skf.split(trainval_x, train_y_class)))"
   ]
  },
  {
   "cell_type": "code",
   "execution_count": 11,
   "metadata": {},
   "outputs": [],
   "source": [
    "for val_idx,model, _oof, score, _pred in result:\n",
    "    oof_skf[val_idx] = _oof\n",
    "    pred_skf += _pred / 5\n",
    "    val_idxs_skf.append(val_idx)\n",
    "    models_skf.append(model)\n",
    "    scores_skf.append(score)"
   ]
  },
  {
   "cell_type": "code",
   "execution_count": 13,
   "metadata": {},
   "outputs": [],
   "source": [
    "test_df = test_df.drop(TARGET, axis=1)\n",
    "test_df[TARGET] = pred_skf\n",
    "\n",
    "sub_df = pd.read_csv('../data/submit_sample.csv', header=None)\n",
    "sub_df.columns = [ID, TARGET]\n",
    "sub_df = pd.merge(sub_df[[ID]], test_df[[ID, TARGET]], on=ID, how='left')\n",
    "sub_df.to_csv('../model2_submission.csv', index=False)"
   ]
  },
  {
   "cell_type": "code",
   "execution_count": 12,
   "metadata": {},
   "outputs": [
    {
     "data": {
      "text/plain": [
       "47.77710515771288"
      ]
     },
     "execution_count": 12,
     "metadata": {},
     "output_type": "execute_result"
    }
   ],
   "source": [
    "sum(scores_skf)/len(scores_skf)"
   ]
  },
  {
   "cell_type": "code",
   "execution_count": 14,
   "metadata": {},
   "outputs": [],
   "source": [
    "# public score\n",
    "# 評価結果：47.13679608215332"
   ]
  },
  {
   "cell_type": "code",
   "execution_count": 15,
   "metadata": {},
   "outputs": [
    {
     "data": {
      "text/plain": [
       "<Axes: title={'center': 'Feature importance'}, xlabel='Feature importance', ylabel='Features'>"
      ]
     },
     "execution_count": 15,
     "metadata": {},
     "output_type": "execute_result"
    },
    {
     "data": {
      "image/png": "[encoded data removed]",
      "text/plain": [
       "<Figure size 640x480 with 1 Axes>"
      ]
     },
     "metadata": {},
     "output_type": "display_data"
    }
   ],
   "source": [
    "lgb.plot_importance(model)"
   ]
  }
 ],
 "metadata": {
  "kernelspec": {
   "display_name": "Python 3",
   "language": "python",
   "name": "python3"
  },
  "language_info": {
   "codemirror_mode": {
    "name": "ipython",
    "version": 3
   },
   "file_extension": ".py",
   "mimetype": "text/x-python",
   "name": "python",
   "nbconvert_exporter": "python",
   "pygments_lexer": "ipython3",
   "version": "3.8.10"
  },
  "orig_nbformat": 4
 },
 "nbformat": 4,
 "nbformat_minor": 2
}
