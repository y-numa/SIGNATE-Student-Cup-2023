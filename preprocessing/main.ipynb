{
 "cells": [
  {
   "cell_type": "code",
   "execution_count": 22,
   "metadata": {},
   "outputs": [],
   "source": [
    "import pandas as pd\n",
    "import seaborn as sns\n",
    "import matplotlib.pyplot as plt\n",
    "import unicodedata\n",
    "\n",
    "df = pd.concat([pd.read_csv('../data/train.csv'), pd.read_csv('../data/test.csv')])"
   ]
  },
  {
   "cell_type": "code",
   "execution_count": 23,
   "metadata": {},
   "outputs": [],
   "source": [
    "# 販売年の異常値処理\n",
    "df.loc[df['year'] >= 2023, 'year'] -= 1000"
   ]
  },
  {
   "cell_type": "code",
   "execution_count": 24,
   "metadata": {},
   "outputs": [],
   "source": [
    "# sizeの表記揺れ修正\n",
    "df[\"size\"] = df[\"size\"].str.replace(\"ー\", \"-\").astype(str)\n",
    "df[\"size\"] = df[\"size\"].str.replace(\"−\", \"-\").astype(str)"
   ]
  },
  {
   "cell_type": "code",
   "execution_count": 25,
   "metadata": {},
   "outputs": [],
   "source": [
    "# メーカーの表記揺れ修正\n",
    "df[\"manufacturer\"] = df[\"manufacturer\"].apply(lambda x: unicodedata.normalize(\"NFKC\", x).lower())\n",
    "\n",
    "# 一部手作業処理\n",
    "df[\"manufacturer\"] = df[\"manufacturer\"].str.replace(\"ѕ\", \"s\").astype(str)\n",
    "df[\"manufacturer\"] = df[\"manufacturer\"].str.replace(\"α\", \"a\").astype(str)\n",
    "df[\"manufacturer\"] = df[\"manufacturer\"].str.replace(\"а\", \"a\").astype(str)\n",
    "df[\"manufacturer\"] = df[\"manufacturer\"].str.replace(\"о\", \"o\").astype(str)\n",
    "df[\"manufacturer\"] = df[\"manufacturer\"].str.replace(\"ᴄ\", \"c\").astype(str)\n",
    "df[\"manufacturer\"] = df[\"manufacturer\"].str.replace(\"а\", \"a\").astype(str)"
   ]
  }
 ],
 "metadata": {
  "kernelspec": {
   "display_name": "Python 3",
   "language": "python",
   "name": "python3"
  },
  "language_info": {
   "codemirror_mode": {
    "name": "ipython",
    "version": 3
   },
   "file_extension": ".py",
   "mimetype": "text/x-python",
   "name": "python",
   "nbconvert_exporter": "python",
   "pygments_lexer": "ipython3",
   "version": "3.8.10"
  },
  "orig_nbformat": 4
 },
 "nbformat": 4,
 "nbformat_minor": 2
}
